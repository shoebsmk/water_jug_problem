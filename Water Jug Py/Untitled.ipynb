{
 "cells": [
  {
   "cell_type": "code",
   "execution_count": 7,
   "metadata": {
    "scrolled": true
   },
   "outputs": [
    {
     "name": "stdout",
     "output_type": "stream",
     "text": [
      "filled B:\n",
      "0 5\n",
      "Transfered B to A:\n",
      "3 2\n",
      "Emtied A:\n",
      "0 2\n",
      "Transfered B to A:\n",
      "2 0\n",
      "filled B:\n",
      "2 5\n",
      "Transfered B to A:\n",
      "3 4\n"
     ]
    }
   ],
   "source": [
    "cap_a=3\n",
    "cap_b=5\n",
    "a = 0\n",
    "b = 0\n",
    "def fill_a():\n",
    "  global a,cap_a\n",
    "  a=cap_a\n",
    "  print(\"filled A:\")\n",
    "  print(a,b)\n",
    "  #--\n",
    "def fill_b():\n",
    "  global b,cap_b\n",
    "  b=cap_b\n",
    "  print(\"filled B:\")\n",
    "  print(a,b)\n",
    "  #--\n",
    "def em_a():\n",
    "  global a\n",
    "  a=0\n",
    "  print(\"Emtied A:\")\n",
    "  print(a,b)\n",
    "  #--\n",
    "def em_b():\n",
    "  global b\n",
    "  b=0\n",
    "  print(\"Emtied B:\")\n",
    "  print(a,b)\n",
    "  #--\n",
    "def a_b():\n",
    "  global a,b,cap_a,cap_b\n",
    "  b_space=cap_b-b\n",
    "  b += a\n",
    "  if(b>cap_b):\n",
    "    b = cap_b\n",
    "  if(b_space>=cap_a):\n",
    "    a=0\n",
    "  else:\n",
    "    a= a-b_space\n",
    "  print(\"Transfered A to B:\")\n",
    "  print(a,b)\n",
    "  #--\n",
    "def b_a():\n",
    "  global a,b,cap_a\n",
    "  a_space=cap_a-a\n",
    "  a += b\n",
    "  if(a>cap_a):\n",
    "    a = cap_a\n",
    "  if(a_space>=b):\n",
    "    b=0\n",
    "  else:\n",
    "    b=b-a_space\n",
    "  print(\"Transfered B to A:\")\n",
    "  print(a,b)\n",
    "  #---\n",
    "\n",
    "fill_b()\n",
    "b_a()\n",
    "em_a()\n",
    "b_a()\n",
    "fill_b()\n",
    "b_a()"
   ]
  },
  {
   "cell_type": "code",
   "execution_count": null,
   "metadata": {},
   "outputs": [],
   "source": []
  }
 ],
 "metadata": {
  "kernelspec": {
   "display_name": "Python 3",
   "language": "python",
   "name": "python3"
  },
  "language_info": {
   "codemirror_mode": {
    "name": "ipython",
    "version": 3
   },
   "file_extension": ".py",
   "mimetype": "text/x-python",
   "name": "python",
   "nbconvert_exporter": "python",
   "pygments_lexer": "ipython3",
   "version": "3.8.5"
  }
 },
 "nbformat": 4,
 "nbformat_minor": 4
}
